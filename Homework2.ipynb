{
 "cells": [
  {
   "cell_type": "code",
   "execution_count": 1,
   "metadata": {
    "scrolled": false
   },
   "outputs": [],
   "source": [
    "import numpy as np"
   ]
  },
  {
   "cell_type": "markdown",
   "metadata": {},
   "source": [
    "1. Создайте двумерный массив 10x3, заполненный случайными значениями. В каждой строке выберите значение, наиболее близкое к 0.5."
   ]
  },
  {
   "cell_type": "code",
   "execution_count": 2,
   "metadata": {},
   "outputs": [
    {
     "name": "stdout",
     "output_type": "stream",
     "text": [
      "[[0.25603459 0.90281355 0.9477011 ]\n",
      " [0.28473852 0.17164944 0.66810188]\n",
      " [0.94935332 0.27719864 0.19040977]\n",
      " [0.32236873 0.5974005  0.94022524]\n",
      " [0.62787513 0.81435927 0.58345867]\n",
      " [0.26661656 0.29212527 0.39668682]\n",
      " [0.21342402 0.18733318 0.24763854]\n",
      " [0.80109732 0.79347244 0.40463899]\n",
      " [0.07858901 0.20035008 0.63659754]\n",
      " [0.39868076 0.46708875 0.05993215]]\n",
      "[0.25603459 0.66810188 0.27719864 0.5974005  0.58345867 0.39668682\n",
      " 0.24763854 0.40463899 0.63659754 0.46708875]\n"
     ]
    }
   ],
   "source": [
    "a = np.random.random((10,3))\n",
    "b = np.empty(10)\n",
    "for i in range(10):\n",
    "    b[i] = a[i, np.abs(a[i]-0.5).argmin()]\n",
    "print(a)\n",
    "print(b)"
   ]
  },
  {
   "cell_type": "markdown",
   "metadata": {},
   "source": [
    "2. Создайте двумерный массив 6x6, заполненный случайными значениями. Затем сумму по каждой строке поделите на минимальный элемент из столбца с тем же индексом."
   ]
  },
  {
   "cell_type": "code",
   "execution_count": 3,
   "metadata": {},
   "outputs": [
    {
     "name": "stdout",
     "output_type": "stream",
     "text": [
      "[[0.49386563 0.88668011 0.08877119 0.3995662  0.16548709 0.21432856]\n",
      " [0.40624632 0.87504011 0.54335661 0.97049671 0.58601626 0.50083996]\n",
      " [0.3677082  0.47040569 0.48429144 0.6164943  0.48229178 0.22649526]\n",
      " [0.94222078 0.52721779 0.77160864 0.83560563 0.36294736 0.47266581]\n",
      " [0.75212199 0.29602069 0.86333748 0.17921666 0.53171189 0.75081491]\n",
      " [0.203993   0.09085762 0.82023685 0.33750378 0.40749577 0.84181934]]\n",
      "[11.02341152 42.72614515 29.82596915 21.82981212 20.38360606 12.60637548]\n"
     ]
    }
   ],
   "source": [
    "a=np.random.random((6,6))\n",
    "b=np.empty(6)\n",
    "for i in range(6):\n",
    "    b[i]=np.sum(a[i])/np.min(a[:, i])\n",
    "print(a)\n",
    "print(b)"
   ]
  },
  {
   "cell_type": "markdown",
   "metadata": {},
   "source": [
    "3. На примере массива x = np.array([6, 2, 0, 3, 0, 0, 5, 7, 0]) найдите максимальный элемент в массиве среди элементов, перед которыми стоит ноль."
   ]
  },
  {
   "cell_type": "code",
   "execution_count": 4,
   "metadata": {},
   "outputs": [
    {
     "name": "stdout",
     "output_type": "stream",
     "text": [
      "5\n"
     ]
    }
   ],
   "source": [
    "x = np.array([6, 2, 0, 3, 0, 0, 5, 7, 0])\n",
    "mask = (x == 0)\n",
    "mask = np.roll(mask,1)\n",
    "mask[0] = 0\n",
    "print(np.max(x[mask]))"
   ]
  },
  {
   "cell_type": "markdown",
   "metadata": {},
   "source": [
    "4. Пусть заданы два массива x = np.ones(10) и i = np.array([0, 1, 2, 3, 5, 5, 5, 8]). Прибавьте единицу к тем элементам массива x, индексы которых указаны в массиве i. В случае, если некоторый индекс встретился в массиве i несколько раз, прибавьте к соответствующему элементу массива x число вхождений данного индекса в массив i."
   ]
  },
  {
   "cell_type": "code",
   "execution_count": 5,
   "metadata": {},
   "outputs": [
    {
     "name": "stdout",
     "output_type": "stream",
     "text": [
      "[2. 2. 2. 2. 1. 4. 1. 1. 2. 1.]\n"
     ]
    }
   ],
   "source": [
    "x = np.ones(10)\n",
    "i = np.array([0, 1, 2, 3, 5, 5, 5, 8])\n",
    "for j in range(i.size):\n",
    "    x[i[j]]+=1\n",
    "print(x)"
   ]
  },
  {
   "cell_type": "code",
   "execution_count": null,
   "metadata": {},
   "outputs": [],
   "source": []
  }
 ],
 "metadata": {
  "kernelspec": {
   "display_name": "Python 3",
   "language": "python",
   "name": "python3"
  },
  "language_info": {
   "codemirror_mode": {
    "name": "ipython",
    "version": 3
   },
   "file_extension": ".py",
   "mimetype": "text/x-python",
   "name": "python",
   "nbconvert_exporter": "python",
   "pygments_lexer": "ipython3",
   "version": "3.8.5"
  }
 },
 "nbformat": 4,
 "nbformat_minor": 4
}
