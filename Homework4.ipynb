{
 "cells": [
  {
   "cell_type": "code",
   "execution_count": 1,
   "metadata": {},
   "outputs": [],
   "source": [
    "import pandas as pd\n",
    "import numpy as np\n",
    "import matplotlib.pyplot as plt\n",
    "import datetime as dt"
   ]
  },
  {
   "cell_type": "code",
   "execution_count": 2,
   "metadata": {},
   "outputs": [],
   "source": [
    "url1=\"https://raw.githubusercontent.com/vaibhavwalvekar/NYC-Flights-2013-Dataset-Analysis/master/flights.csv\"\n",
    "url2=\"https://raw.githubusercontent.com/vaibhavwalvekar/NYC-Flights-2013-Dataset-Analysis/master/weather.csv\"\n",
    "data = pd.read_csv(url1)\n",
    "weather = pd.read_csv(url2)"
   ]
  },
  {
   "cell_type": "code",
   "execution_count": 3,
   "metadata": {},
   "outputs": [
    {
     "name": "stdout",
     "output_type": "stream",
     "text": [
      "Unnamed: 0       0\n",
      "year             0\n",
      "month            0\n",
      "day              0\n",
      "dep_time      8255\n",
      "dep_delay     8255\n",
      "arr_time      8713\n",
      "arr_delay     9430\n",
      "carrier          0\n",
      "tailnum       2512\n",
      "flight           0\n",
      "origin           0\n",
      "dest             0\n",
      "air_time      9430\n",
      "distance         0\n",
      "hour          8255\n",
      "minute        8255\n",
      "dtype: int64\n",
      "Unnamed: 0      0\n",
      "origin          0\n",
      "year            0\n",
      "month           1\n",
      "day             1\n",
      "hour            1\n",
      "temp            1\n",
      "dewp            1\n",
      "humid           1\n",
      "wind_dir      233\n",
      "wind_speed      1\n",
      "wind_gust       1\n",
      "precip          0\n",
      "pressure      939\n",
      "visib           0\n",
      "dtype: int64\n"
     ]
    }
   ],
   "source": [
    "print(data.isnull().sum())\n",
    "print(weather.isnull().sum())"
   ]
  },
  {
   "cell_type": "code",
   "execution_count": 4,
   "metadata": {},
   "outputs": [],
   "source": [
    "data.drop([\"Unnamed: 0\", \"minute\",\"year\",\"arr_time\",\"arr_delay\",\"air_time\",\"dep_time\",\"tailnum\",\"flight\",\"dest\",\"distance\"], 1, inplace=True)"
   ]
  },
  {
   "cell_type": "code",
   "execution_count": 5,
   "metadata": {},
   "outputs": [],
   "source": [
    "data=data.dropna()"
   ]
  },
  {
   "cell_type": "code",
   "execution_count": 6,
   "metadata": {},
   "outputs": [
    {
     "data": {
      "text/html": [
       "<div>\n",
       "<style scoped>\n",
       "    .dataframe tbody tr th:only-of-type {\n",
       "        vertical-align: middle;\n",
       "    }\n",
       "\n",
       "    .dataframe tbody tr th {\n",
       "        vertical-align: top;\n",
       "    }\n",
       "\n",
       "    .dataframe thead th {\n",
       "        text-align: right;\n",
       "    }\n",
       "</style>\n",
       "<table border=\"1\" class=\"dataframe\">\n",
       "  <thead>\n",
       "    <tr style=\"text-align: right;\">\n",
       "      <th></th>\n",
       "      <th>Unnamed: 0</th>\n",
       "      <th>origin</th>\n",
       "      <th>year</th>\n",
       "      <th>month</th>\n",
       "      <th>day</th>\n",
       "      <th>hour</th>\n",
       "      <th>temp</th>\n",
       "      <th>dewp</th>\n",
       "      <th>humid</th>\n",
       "      <th>wind_dir</th>\n",
       "      <th>wind_speed</th>\n",
       "      <th>wind_gust</th>\n",
       "      <th>precip</th>\n",
       "      <th>pressure</th>\n",
       "      <th>visib</th>\n",
       "    </tr>\n",
       "  </thead>\n",
       "  <tbody>\n",
       "    <tr>\n",
       "      <th>8704</th>\n",
       "      <td>8705</td>\n",
       "      <td>EWR</td>\n",
       "      <td>2013</td>\n",
       "      <td>12.0</td>\n",
       "      <td>30.0</td>\n",
       "      <td>19.0</td>\n",
       "      <td>37.04</td>\n",
       "      <td>21.02</td>\n",
       "      <td>51.95</td>\n",
       "      <td>320.0</td>\n",
       "      <td>17.26170</td>\n",
       "      <td>19.864419</td>\n",
       "      <td>0.0</td>\n",
       "      <td>1017.6</td>\n",
       "      <td>10.0</td>\n",
       "    </tr>\n",
       "    <tr>\n",
       "      <th>8705</th>\n",
       "      <td>8706</td>\n",
       "      <td>EWR</td>\n",
       "      <td>2013</td>\n",
       "      <td>12.0</td>\n",
       "      <td>30.0</td>\n",
       "      <td>20.0</td>\n",
       "      <td>35.06</td>\n",
       "      <td>17.96</td>\n",
       "      <td>49.30</td>\n",
       "      <td>340.0</td>\n",
       "      <td>17.26170</td>\n",
       "      <td>19.864419</td>\n",
       "      <td>0.0</td>\n",
       "      <td>1019.1</td>\n",
       "      <td>10.0</td>\n",
       "    </tr>\n",
       "    <tr>\n",
       "      <th>8706</th>\n",
       "      <td>8707</td>\n",
       "      <td>EWR</td>\n",
       "      <td>2013</td>\n",
       "      <td>12.0</td>\n",
       "      <td>30.0</td>\n",
       "      <td>21.0</td>\n",
       "      <td>33.08</td>\n",
       "      <td>15.98</td>\n",
       "      <td>48.98</td>\n",
       "      <td>320.0</td>\n",
       "      <td>14.96014</td>\n",
       "      <td>17.215830</td>\n",
       "      <td>0.0</td>\n",
       "      <td>1019.8</td>\n",
       "      <td>10.0</td>\n",
       "    </tr>\n",
       "    <tr>\n",
       "      <th>8707</th>\n",
       "      <td>8708</td>\n",
       "      <td>EWR</td>\n",
       "      <td>2013</td>\n",
       "      <td>12.0</td>\n",
       "      <td>30.0</td>\n",
       "      <td>22.0</td>\n",
       "      <td>30.92</td>\n",
       "      <td>12.92</td>\n",
       "      <td>46.74</td>\n",
       "      <td>340.0</td>\n",
       "      <td>16.11092</td>\n",
       "      <td>18.540125</td>\n",
       "      <td>0.0</td>\n",
       "      <td>1020.5</td>\n",
       "      <td>10.0</td>\n",
       "    </tr>\n",
       "    <tr>\n",
       "      <th>8708</th>\n",
       "      <td>8709</td>\n",
       "      <td>EWR</td>\n",
       "      <td>2013</td>\n",
       "      <td>12.0</td>\n",
       "      <td>30.0</td>\n",
       "      <td>23.0</td>\n",
       "      <td>28.94</td>\n",
       "      <td>12.02</td>\n",
       "      <td>48.69</td>\n",
       "      <td>330.0</td>\n",
       "      <td>14.96014</td>\n",
       "      <td>17.215830</td>\n",
       "      <td>0.0</td>\n",
       "      <td>1021.1</td>\n",
       "      <td>10.0</td>\n",
       "    </tr>\n",
       "    <tr>\n",
       "      <th>8709</th>\n",
       "      <td>8710</td>\n",
       "      <td>JFK</td>\n",
       "      <td>2013</td>\n",
       "      <td>2.0</td>\n",
       "      <td>18.0</td>\n",
       "      <td>4.0</td>\n",
       "      <td>17.96</td>\n",
       "      <td>-0.94</td>\n",
       "      <td>42.69</td>\n",
       "      <td>290.0</td>\n",
       "      <td>29.92028</td>\n",
       "      <td>34.431660</td>\n",
       "      <td>0.0</td>\n",
       "      <td>1016.2</td>\n",
       "      <td>10.0</td>\n",
       "    </tr>\n",
       "    <tr>\n",
       "      <th>8710</th>\n",
       "      <td>8711</td>\n",
       "      <td>JFK</td>\n",
       "      <td>2013</td>\n",
       "      <td>2.0</td>\n",
       "      <td>20.0</td>\n",
       "      <td>19.0</td>\n",
       "      <td>32.00</td>\n",
       "      <td>8.06</td>\n",
       "      <td>36.03</td>\n",
       "      <td>280.0</td>\n",
       "      <td>26.46794</td>\n",
       "      <td>30.458776</td>\n",
       "      <td>0.0</td>\n",
       "      <td>1011.2</td>\n",
       "      <td>10.0</td>\n",
       "    </tr>\n",
       "    <tr>\n",
       "      <th>8711</th>\n",
       "      <td>8712</td>\n",
       "      <td>JFK</td>\n",
       "      <td>2013</td>\n",
       "      <td>7.0</td>\n",
       "      <td>2.0</td>\n",
       "      <td>11.0</td>\n",
       "      <td>71.60</td>\n",
       "      <td>69.80</td>\n",
       "      <td>94.06</td>\n",
       "      <td>180.0</td>\n",
       "      <td>11.50780</td>\n",
       "      <td>13.242946</td>\n",
       "      <td>0.0</td>\n",
       "      <td>NaN</td>\n",
       "      <td>0.5</td>\n",
       "    </tr>\n",
       "    <tr>\n",
       "      <th>8712</th>\n",
       "      <td>8713</td>\n",
       "      <td>JFK</td>\n",
       "      <td>2013</td>\n",
       "      <td>7.0</td>\n",
       "      <td>2.0</td>\n",
       "      <td>13.0</td>\n",
       "      <td>71.60</td>\n",
       "      <td>69.80</td>\n",
       "      <td>94.06</td>\n",
       "      <td>190.0</td>\n",
       "      <td>10.35702</td>\n",
       "      <td>11.918651</td>\n",
       "      <td>0.0</td>\n",
       "      <td>NaN</td>\n",
       "      <td>1.0</td>\n",
       "    </tr>\n",
       "    <tr>\n",
       "      <th>8713</th>\n",
       "      <td>8714</td>\n",
       "      <td>JFK</td>\n",
       "      <td>2013</td>\n",
       "      <td>7.0</td>\n",
       "      <td>31.0</td>\n",
       "      <td>6.0</td>\n",
       "      <td>71.06</td>\n",
       "      <td>55.04</td>\n",
       "      <td>56.93</td>\n",
       "      <td>320.0</td>\n",
       "      <td>8.05546</td>\n",
       "      <td>9.270062</td>\n",
       "      <td>0.0</td>\n",
       "      <td>1020.4</td>\n",
       "      <td>10.0</td>\n",
       "    </tr>\n",
       "    <tr>\n",
       "      <th>8714</th>\n",
       "      <td>8715</td>\n",
       "      <td>JFK</td>\n",
       "      <td>2013</td>\n",
       "      <td>9.0</td>\n",
       "      <td>2.0</td>\n",
       "      <td>20.0</td>\n",
       "      <td>75.20</td>\n",
       "      <td>73.40</td>\n",
       "      <td>94.14</td>\n",
       "      <td>200.0</td>\n",
       "      <td>4.60312</td>\n",
       "      <td>5.297178</td>\n",
       "      <td>0.0</td>\n",
       "      <td>NaN</td>\n",
       "      <td>4.0</td>\n",
       "    </tr>\n",
       "    <tr>\n",
       "      <th>8715</th>\n",
       "      <td>8716</td>\n",
       "      <td>JFK</td>\n",
       "      <td>2013</td>\n",
       "      <td>10.0</td>\n",
       "      <td>23.0</td>\n",
       "      <td>10.0</td>\n",
       "      <td>48.92</td>\n",
       "      <td>39.02</td>\n",
       "      <td>68.51</td>\n",
       "      <td>60.0</td>\n",
       "      <td>4.60312</td>\n",
       "      <td>5.297178</td>\n",
       "      <td>0.0</td>\n",
       "      <td>1008.1</td>\n",
       "      <td>10.0</td>\n",
       "    </tr>\n",
       "    <tr>\n",
       "      <th>8716</th>\n",
       "      <td>8717</td>\n",
       "      <td>JFK</td>\n",
       "      <td>2013</td>\n",
       "      <td>10.0</td>\n",
       "      <td>23.0</td>\n",
       "      <td>11.0</td>\n",
       "      <td>48.92</td>\n",
       "      <td>39.02</td>\n",
       "      <td>68.51</td>\n",
       "      <td>40.0</td>\n",
       "      <td>4.60312</td>\n",
       "      <td>5.297178</td>\n",
       "      <td>0.0</td>\n",
       "      <td>1008.5</td>\n",
       "      <td>10.0</td>\n",
       "    </tr>\n",
       "    <tr>\n",
       "      <th>8717</th>\n",
       "      <td>8718</td>\n",
       "      <td>JFK</td>\n",
       "      <td>2013</td>\n",
       "      <td>12.0</td>\n",
       "      <td>17.0</td>\n",
       "      <td>5.0</td>\n",
       "      <td>26.96</td>\n",
       "      <td>10.94</td>\n",
       "      <td>50.34</td>\n",
       "      <td>40.0</td>\n",
       "      <td>4.60312</td>\n",
       "      <td>5.297178</td>\n",
       "      <td>0.0</td>\n",
       "      <td>1023.9</td>\n",
       "      <td>10.0</td>\n",
       "    </tr>\n",
       "    <tr>\n",
       "      <th>8718</th>\n",
       "      <td>8719</td>\n",
       "      <td>LGA</td>\n",
       "      <td>2013</td>\n",
       "      <td>8.0</td>\n",
       "      <td>22.0</td>\n",
       "      <td>22.0</td>\n",
       "      <td>75.92</td>\n",
       "      <td>66.92</td>\n",
       "      <td>73.68</td>\n",
       "      <td>210.0</td>\n",
       "      <td>8.05546</td>\n",
       "      <td>9.270062</td>\n",
       "      <td>0.0</td>\n",
       "      <td>1011.9</td>\n",
       "      <td>10.0</td>\n",
       "    </tr>\n",
       "  </tbody>\n",
       "</table>\n",
       "</div>"
      ],
      "text/plain": [
       "      Unnamed: 0 origin  year  month   day  hour   temp   dewp  humid  \\\n",
       "8704        8705    EWR  2013   12.0  30.0  19.0  37.04  21.02  51.95   \n",
       "8705        8706    EWR  2013   12.0  30.0  20.0  35.06  17.96  49.30   \n",
       "8706        8707    EWR  2013   12.0  30.0  21.0  33.08  15.98  48.98   \n",
       "8707        8708    EWR  2013   12.0  30.0  22.0  30.92  12.92  46.74   \n",
       "8708        8709    EWR  2013   12.0  30.0  23.0  28.94  12.02  48.69   \n",
       "8709        8710    JFK  2013    2.0  18.0   4.0  17.96  -0.94  42.69   \n",
       "8710        8711    JFK  2013    2.0  20.0  19.0  32.00   8.06  36.03   \n",
       "8711        8712    JFK  2013    7.0   2.0  11.0  71.60  69.80  94.06   \n",
       "8712        8713    JFK  2013    7.0   2.0  13.0  71.60  69.80  94.06   \n",
       "8713        8714    JFK  2013    7.0  31.0   6.0  71.06  55.04  56.93   \n",
       "8714        8715    JFK  2013    9.0   2.0  20.0  75.20  73.40  94.14   \n",
       "8715        8716    JFK  2013   10.0  23.0  10.0  48.92  39.02  68.51   \n",
       "8716        8717    JFK  2013   10.0  23.0  11.0  48.92  39.02  68.51   \n",
       "8717        8718    JFK  2013   12.0  17.0   5.0  26.96  10.94  50.34   \n",
       "8718        8719    LGA  2013    8.0  22.0  22.0  75.92  66.92  73.68   \n",
       "\n",
       "      wind_dir  wind_speed  wind_gust  precip  pressure  visib  \n",
       "8704     320.0    17.26170  19.864419     0.0    1017.6   10.0  \n",
       "8705     340.0    17.26170  19.864419     0.0    1019.1   10.0  \n",
       "8706     320.0    14.96014  17.215830     0.0    1019.8   10.0  \n",
       "8707     340.0    16.11092  18.540125     0.0    1020.5   10.0  \n",
       "8708     330.0    14.96014  17.215830     0.0    1021.1   10.0  \n",
       "8709     290.0    29.92028  34.431660     0.0    1016.2   10.0  \n",
       "8710     280.0    26.46794  30.458776     0.0    1011.2   10.0  \n",
       "8711     180.0    11.50780  13.242946     0.0       NaN    0.5  \n",
       "8712     190.0    10.35702  11.918651     0.0       NaN    1.0  \n",
       "8713     320.0     8.05546   9.270062     0.0    1020.4   10.0  \n",
       "8714     200.0     4.60312   5.297178     0.0       NaN    4.0  \n",
       "8715      60.0     4.60312   5.297178     0.0    1008.1   10.0  \n",
       "8716      40.0     4.60312   5.297178     0.0    1008.5   10.0  \n",
       "8717      40.0     4.60312   5.297178     0.0    1023.9   10.0  \n",
       "8718     210.0     8.05546   9.270062     0.0    1011.9   10.0  "
      ]
     },
     "execution_count": 6,
     "metadata": {},
     "output_type": "execute_result"
    }
   ],
   "source": [
    "weather.tail(15)"
   ]
  },
  {
   "cell_type": "code",
   "execution_count": 7,
   "metadata": {},
   "outputs": [],
   "source": [
    "weather.drop(['wind_dir',\"pressure\",\"year\",\"origin\",\"Unnamed: 0\",\"temp\",\"dewp\",\"humid\",\"wind_gust\",\"precip\"], axis=1, inplace=True)\n",
    "weather=weather[:-10]\n",
    "weather=weather.dropna()"
   ]
  },
  {
   "cell_type": "code",
   "execution_count": 8,
   "metadata": {},
   "outputs": [],
   "source": [
    "data=data.merge(weather,on=[\"month\",\"day\",\"hour\"])"
   ]
  },
  {
   "cell_type": "code",
   "execution_count": 9,
   "metadata": {},
   "outputs": [
    {
     "data": {
      "text/html": [
       "<div>\n",
       "<style scoped>\n",
       "    .dataframe tbody tr th:only-of-type {\n",
       "        vertical-align: middle;\n",
       "    }\n",
       "\n",
       "    .dataframe tbody tr th {\n",
       "        vertical-align: top;\n",
       "    }\n",
       "\n",
       "    .dataframe thead th {\n",
       "        text-align: right;\n",
       "    }\n",
       "</style>\n",
       "<table border=\"1\" class=\"dataframe\">\n",
       "  <thead>\n",
       "    <tr style=\"text-align: right;\">\n",
       "      <th></th>\n",
       "      <th>month</th>\n",
       "      <th>day</th>\n",
       "      <th>dep_delay</th>\n",
       "      <th>carrier</th>\n",
       "      <th>origin</th>\n",
       "      <th>hour</th>\n",
       "      <th>wind_speed</th>\n",
       "      <th>visib</th>\n",
       "    </tr>\n",
       "  </thead>\n",
       "  <tbody>\n",
       "    <tr>\n",
       "      <th>46869</th>\n",
       "      <td>10</td>\n",
       "      <td>23</td>\n",
       "      <td>-4.0</td>\n",
       "      <td>MQ</td>\n",
       "      <td>LGA</td>\n",
       "      <td>7.0</td>\n",
       "      <td>0.00000</td>\n",
       "      <td>10.0</td>\n",
       "    </tr>\n",
       "    <tr>\n",
       "      <th>59336</th>\n",
       "      <td>11</td>\n",
       "      <td>5</td>\n",
       "      <td>-9.0</td>\n",
       "      <td>MQ</td>\n",
       "      <td>EWR</td>\n",
       "      <td>19.0</td>\n",
       "      <td>8.05546</td>\n",
       "      <td>10.0</td>\n",
       "    </tr>\n",
       "    <tr>\n",
       "      <th>180172</th>\n",
       "      <td>4</td>\n",
       "      <td>23</td>\n",
       "      <td>-6.0</td>\n",
       "      <td>EV</td>\n",
       "      <td>EWR</td>\n",
       "      <td>6.0</td>\n",
       "      <td>10.35702</td>\n",
       "      <td>10.0</td>\n",
       "    </tr>\n",
       "    <tr>\n",
       "      <th>20984</th>\n",
       "      <td>1</td>\n",
       "      <td>25</td>\n",
       "      <td>-10.0</td>\n",
       "      <td>US</td>\n",
       "      <td>LGA</td>\n",
       "      <td>9.0</td>\n",
       "      <td>5.75390</td>\n",
       "      <td>10.0</td>\n",
       "    </tr>\n",
       "    <tr>\n",
       "      <th>282108</th>\n",
       "      <td>8</td>\n",
       "      <td>12</td>\n",
       "      <td>2.0</td>\n",
       "      <td>UA</td>\n",
       "      <td>EWR</td>\n",
       "      <td>15.0</td>\n",
       "      <td>3.45234</td>\n",
       "      <td>10.0</td>\n",
       "    </tr>\n",
       "  </tbody>\n",
       "</table>\n",
       "</div>"
      ],
      "text/plain": [
       "        month  day  dep_delay carrier origin  hour  wind_speed  visib\n",
       "46869      10   23       -4.0      MQ    LGA   7.0     0.00000   10.0\n",
       "59336      11    5       -9.0      MQ    EWR  19.0     8.05546   10.0\n",
       "180172      4   23       -6.0      EV    EWR   6.0    10.35702   10.0\n",
       "20984       1   25      -10.0      US    LGA   9.0     5.75390   10.0\n",
       "282108      8   12        2.0      UA    EWR  15.0     3.45234   10.0"
      ]
     },
     "execution_count": 9,
     "metadata": {},
     "output_type": "execute_result"
    }
   ],
   "source": [
    "data.sample(5)"
   ]
  },
  {
   "cell_type": "code",
   "execution_count": 10,
   "metadata": {},
   "outputs": [],
   "source": [
    "delayed_data=data[data[\"dep_delay\"]>0]"
   ]
  },
  {
   "cell_type": "markdown",
   "metadata": {},
   "source": [
    "1) How time of day affects delay?"
   ]
  },
  {
   "cell_type": "code",
   "execution_count": 11,
   "metadata": {},
   "outputs": [
    {
     "data": {
      "image/png": "[encoded data removed]",
      "text/plain": [
       "<Figure size 432x288 with 1 Axes>"
      ]
     },
     "metadata": {
      "needs_background": "light"
     },
     "output_type": "display_data"
    },
    {
     "data": {
      "text/html": [
       "<div>\n",
       "<style scoped>\n",
       "    .dataframe tbody tr th:only-of-type {\n",
       "        vertical-align: middle;\n",
       "    }\n",
       "\n",
       "    .dataframe tbody tr th {\n",
       "        vertical-align: top;\n",
       "    }\n",
       "\n",
       "    .dataframe thead th {\n",
       "        text-align: right;\n",
       "    }\n",
       "</style>\n",
       "<table border=\"1\" class=\"dataframe\">\n",
       "  <thead>\n",
       "    <tr style=\"text-align: right;\">\n",
       "      <th></th>\n",
       "      <th>0.0</th>\n",
       "      <th>1.0</th>\n",
       "      <th>2.0</th>\n",
       "      <th>3.0</th>\n",
       "      <th>4.0</th>\n",
       "      <th>5.0</th>\n",
       "      <th>6.0</th>\n",
       "      <th>7.0</th>\n",
       "      <th>8.0</th>\n",
       "      <th>9.0</th>\n",
       "      <th>...</th>\n",
       "      <th>14.0</th>\n",
       "      <th>15.0</th>\n",
       "      <th>16.0</th>\n",
       "      <th>17.0</th>\n",
       "      <th>18.0</th>\n",
       "      <th>19.0</th>\n",
       "      <th>20.0</th>\n",
       "      <th>21.0</th>\n",
       "      <th>22.0</th>\n",
       "      <th>23.0</th>\n",
       "    </tr>\n",
       "  </thead>\n",
       "  <tbody>\n",
       "    <tr>\n",
       "      <th>Number of flights</th>\n",
       "      <td>875</td>\n",
       "      <td>223</td>\n",
       "      <td>64</td>\n",
       "      <td>11</td>\n",
       "      <td>302</td>\n",
       "      <td>7167</td>\n",
       "      <td>22568</td>\n",
       "      <td>21405</td>\n",
       "      <td>26360</td>\n",
       "      <td>18823</td>\n",
       "      <td>...</td>\n",
       "      <td>20425</td>\n",
       "      <td>22724</td>\n",
       "      <td>22286</td>\n",
       "      <td>22092</td>\n",
       "      <td>21502</td>\n",
       "      <td>19850</td>\n",
       "      <td>16089</td>\n",
       "      <td>10881</td>\n",
       "      <td>5452</td>\n",
       "      <td>2610</td>\n",
       "    </tr>\n",
       "  </tbody>\n",
       "</table>\n",
       "<p>1 rows × 24 columns</p>\n",
       "</div>"
      ],
      "text/plain": [
       "                   0.0   1.0   2.0   3.0   4.0   5.0    6.0    7.0    8.0   \\\n",
       "Number of flights   875   223    64    11   302  7167  22568  21405  26360   \n",
       "\n",
       "                    9.0   ...   14.0   15.0   16.0   17.0   18.0   19.0  \\\n",
       "Number of flights  18823  ...  20425  22724  22286  22092  21502  19850   \n",
       "\n",
       "                    20.0   21.0  22.0  23.0  \n",
       "Number of flights  16089  10881  5452  2610  \n",
       "\n",
       "[1 rows x 24 columns]"
      ]
     },
     "execution_count": 11,
     "metadata": {},
     "output_type": "execute_result"
    }
   ],
   "source": [
    "plt.plot(np.sort(data[\"hour\"].unique()),data.groupby(\"hour\").mean()[\"dep_delay\"])\n",
    "plt.xlabel('Hour')\n",
    "plt.ylabel('Average delay')\n",
    "plt.xticks(np.arange(24))\n",
    "plt.show()\n",
    "data[\"hour\"].value_counts().sort_index().to_frame().T.rename(index= {\"hour\": 'Number of flights'})"
   ]
  },
  {
   "cell_type": "markdown",
   "metadata": {},
   "source": [
    "Night hours have fewer flights but bigger delays."
   ]
  },
  {
   "cell_type": "markdown",
   "metadata": {},
   "source": [
    "2) How different months affect delay?"
   ]
  },
  {
   "cell_type": "code",
   "execution_count": 12,
   "metadata": {
    "scrolled": true
   },
   "outputs": [
    {
     "data": {
      "image/png": "[encoded data removed]",
      "text/plain": [
       "<Figure size 432x288 with 1 Axes>"
      ]
     },
     "metadata": {
      "needs_background": "light"
     },
     "output_type": "display_data"
    },
    {
     "data": {
      "text/html": [
       "<div>\n",
       "<style scoped>\n",
       "    .dataframe tbody tr th:only-of-type {\n",
       "        vertical-align: middle;\n",
       "    }\n",
       "\n",
       "    .dataframe tbody tr th {\n",
       "        vertical-align: top;\n",
       "    }\n",
       "\n",
       "    .dataframe thead th {\n",
       "        text-align: right;\n",
       "    }\n",
       "</style>\n",
       "<table border=\"1\" class=\"dataframe\">\n",
       "  <thead>\n",
       "    <tr style=\"text-align: right;\">\n",
       "      <th></th>\n",
       "      <th>Jan</th>\n",
       "      <th>Feb</th>\n",
       "      <th>Mar</th>\n",
       "      <th>Apr</th>\n",
       "      <th>May</th>\n",
       "      <th>Jun</th>\n",
       "      <th>Jul</th>\n",
       "      <th>Aug</th>\n",
       "      <th>Sep</th>\n",
       "      <th>Oct</th>\n",
       "      <th>Nov</th>\n",
       "      <th>Dec</th>\n",
       "    </tr>\n",
       "  </thead>\n",
       "  <tbody>\n",
       "    <tr>\n",
       "      <th>Number of flights</th>\n",
       "      <td>26466</td>\n",
       "      <td>23599</td>\n",
       "      <td>27949</td>\n",
       "      <td>27659</td>\n",
       "      <td>28232</td>\n",
       "      <td>27233</td>\n",
       "      <td>28315</td>\n",
       "      <td>28771</td>\n",
       "      <td>27072</td>\n",
       "      <td>28553</td>\n",
       "      <td>26967</td>\n",
       "      <td>26326</td>\n",
       "    </tr>\n",
       "  </tbody>\n",
       "</table>\n",
       "</div>"
      ],
      "text/plain": [
       "                     Jan    Feb    Mar    Apr    May    Jun    Jul    Aug  \\\n",
       "Number of flights  26466  23599  27949  27659  28232  27233  28315  28771   \n",
       "\n",
       "                     Sep    Oct    Nov    Dec  \n",
       "Number of flights  27072  28553  26967  26326  "
      ]
     },
     "execution_count": 12,
     "metadata": {},
     "output_type": "execute_result"
    }
   ],
   "source": [
    "plt.bar(np.sort(data[\"month\"].unique()),data.groupby(\"month\").mean()[\"dep_delay\"])\n",
    "plt.xlabel('Month')\n",
    "plt.ylabel('Average delay')\n",
    "plt.xticks(np.arange(12)+1, [\"Jan\", \"Feb\", \"Mar\", \"Apr\", \"May\", \"Jun\", \"Jul\",\"Aug\", \"Sep\", \"Oct\", \"Nov\", \"Dec\"])\n",
    "plt.show()\n",
    "data[\"month\"].value_counts().sort_index().to_frame().T.rename(index= {\"month\": 'Number of flights'},columns={1:\"Jan\", 2:\"Feb\", 3:\"Mar\", 4:\"Apr\", 5:\"May\", 6:\"Jun\", 7:\"Jul\",8:\"Aug\", 9:\"Sep\", 10:\"Oct\", 11:\"Nov\", 12:\"Dec\"})"
   ]
  },
  {
   "cell_type": "markdown",
   "metadata": {},
   "source": [
    "There are bigger delays during \"holyday\" months, despite them having roughly the same amount of flights as others."
   ]
  },
  {
   "cell_type": "markdown",
   "metadata": {},
   "source": [
    "3) How weekdays affect delay?"
   ]
  },
  {
   "cell_type": "code",
   "execution_count": 13,
   "metadata": {
    "scrolled": true
   },
   "outputs": [
    {
     "data": {
      "image/png": "[encoded data removed]",
      "text/plain": [
       "<Figure size 432x288 with 1 Axes>"
      ]
     },
     "metadata": {
      "needs_background": "light"
     },
     "output_type": "display_data"
    },
    {
     "data": {
      "text/html": [
       "<div>\n",
       "<style scoped>\n",
       "    .dataframe tbody tr th:only-of-type {\n",
       "        vertical-align: middle;\n",
       "    }\n",
       "\n",
       "    .dataframe tbody tr th {\n",
       "        vertical-align: top;\n",
       "    }\n",
       "\n",
       "    .dataframe thead th {\n",
       "        text-align: right;\n",
       "    }\n",
       "</style>\n",
       "<table border=\"1\" class=\"dataframe\">\n",
       "  <thead>\n",
       "    <tr style=\"text-align: right;\">\n",
       "      <th></th>\n",
       "      <th>Mon</th>\n",
       "      <th>Tue</th>\n",
       "      <th>Wen</th>\n",
       "      <th>Thu</th>\n",
       "      <th>Fri</th>\n",
       "      <th>Sat</th>\n",
       "      <th>Sun</th>\n",
       "    </tr>\n",
       "  </thead>\n",
       "  <tbody>\n",
       "    <tr>\n",
       "      <th>Number of flights</th>\n",
       "      <td>49309</td>\n",
       "      <td>48383</td>\n",
       "      <td>48604</td>\n",
       "      <td>48595</td>\n",
       "      <td>48694</td>\n",
       "      <td>37918</td>\n",
       "      <td>45639</td>\n",
       "    </tr>\n",
       "  </tbody>\n",
       "</table>\n",
       "</div>"
      ],
      "text/plain": [
       "                     Mon    Tue    Wen    Thu    Fri    Sat    Sun\n",
       "Number of flights  49309  48383  48604  48595  48694  37918  45639"
      ]
     },
     "execution_count": 13,
     "metadata": {},
     "output_type": "execute_result"
    }
   ],
   "source": [
    "data[\"weekday\"]=list(map(lambda x,y:dt.datetime(2013, x, y).isoweekday(),data[\"month\"],data[\"day\"]))\n",
    "plt.bar(np.sort(data[\"weekday\"].unique()),data.groupby(\"weekday\").mean()[\"dep_delay\"])\n",
    "plt.xlabel('Weekday')\n",
    "plt.ylabel('Average delay')\n",
    "plt.xticks(np.arange(7)+1, [\"Mon\", \"Tue\", \"Wen\", \"Thu\", \"Fri\", \"Sat\", \"Sun\"])\n",
    "plt.show()\n",
    "data[\"weekday\"].value_counts().sort_index().to_frame().T.rename(index= {\"weekday\": 'Number of flights'},columns={1:\"Mon\", 2:\"Tue\", 3:\"Wen\", 4:\"Thu\", 5:\"Fri\", 6:\"Sat\", 7:\"Sun\"})"
   ]
  },
  {
   "cell_type": "markdown",
   "metadata": {},
   "source": [
    "All working days have the same amount of flights but those surrounding weekends tend to get delayed for longer"
   ]
  },
  {
   "cell_type": "markdown",
   "metadata": {},
   "source": [
    "4) Let's look at different carriers."
   ]
  },
  {
   "cell_type": "code",
   "execution_count": 14,
   "metadata": {},
   "outputs": [
    {
     "data": {
      "image/png": "[encoded data removed]",
      "text/plain": [
       "<Figure size 1440x1440 with 6 Axes>"
      ]
     },
     "metadata": {
      "needs_background": "light"
     },
     "output_type": "display_data"
    },
    {
     "data": {
      "text/html": [
       "<div>\n",
       "<style scoped>\n",
       "    .dataframe tbody tr th:only-of-type {\n",
       "        vertical-align: middle;\n",
       "    }\n",
       "\n",
       "    .dataframe tbody tr th {\n",
       "        vertical-align: top;\n",
       "    }\n",
       "\n",
       "    .dataframe thead th {\n",
       "        text-align: right;\n",
       "    }\n",
       "</style>\n",
       "<table border=\"1\" class=\"dataframe\">\n",
       "  <thead>\n",
       "    <tr style=\"text-align: right;\">\n",
       "      <th></th>\n",
       "      <th>9E</th>\n",
       "      <th>AA</th>\n",
       "      <th>AS</th>\n",
       "      <th>B6</th>\n",
       "      <th>DL</th>\n",
       "      <th>EV</th>\n",
       "      <th>F9</th>\n",
       "      <th>FL</th>\n",
       "      <th>HA</th>\n",
       "      <th>MQ</th>\n",
       "      <th>OO</th>\n",
       "      <th>UA</th>\n",
       "      <th>US</th>\n",
       "      <th>VX</th>\n",
       "      <th>WN</th>\n",
       "      <th>YV</th>\n",
       "    </tr>\n",
       "  </thead>\n",
       "  <tbody>\n",
       "    <tr>\n",
       "      <th>flights</th>\n",
       "      <td>17352</td>\n",
       "      <td>31954</td>\n",
       "      <td>710</td>\n",
       "      <td>53881</td>\n",
       "      <td>47551</td>\n",
       "      <td>51185</td>\n",
       "      <td>680</td>\n",
       "      <td>3175</td>\n",
       "      <td>341</td>\n",
       "      <td>25064</td>\n",
       "      <td>29</td>\n",
       "      <td>57744</td>\n",
       "      <td>19795</td>\n",
       "      <td>5113</td>\n",
       "      <td>12028</td>\n",
       "      <td>540</td>\n",
       "    </tr>\n",
       "    <tr>\n",
       "      <th>delayed flights</th>\n",
       "      <td>7046</td>\n",
       "      <td>10114</td>\n",
       "      <td>226</td>\n",
       "      <td>21317</td>\n",
       "      <td>15167</td>\n",
       "      <td>23073</td>\n",
       "      <td>340</td>\n",
       "      <td>1647</td>\n",
       "      <td>69</td>\n",
       "      <td>8000</td>\n",
       "      <td>9</td>\n",
       "      <td>27147</td>\n",
       "      <td>4761</td>\n",
       "      <td>2217</td>\n",
       "      <td>6530</td>\n",
       "      <td>232</td>\n",
       "    </tr>\n",
       "  </tbody>\n",
       "</table>\n",
       "</div>"
      ],
      "text/plain": [
       "                    9E     AA   AS     B6     DL     EV   F9    FL   HA  \\\n",
       "flights          17352  31954  710  53881  47551  51185  680  3175  341   \n",
       "delayed flights   7046  10114  226  21317  15167  23073  340  1647   69   \n",
       "\n",
       "                    MQ  OO     UA     US    VX     WN   YV  \n",
       "flights          25064  29  57744  19795  5113  12028  540  \n",
       "delayed flights   8000   9  27147   4761  2217   6530  232  "
      ]
     },
     "execution_count": 14,
     "metadata": {},
     "output_type": "execute_result"
    }
   ],
   "source": [
    "f,ax=plt.subplots(3,2,figsize=(20,20))\n",
    "ax[0,0].bar(np.sort(data[\"carrier\"].unique()),data.groupby(\"carrier\").median()[\"dep_delay\"])\n",
    "ax[0,0].set_title(\"median delay\")\n",
    "ax[1,0].bar(np.sort(data[\"carrier\"].unique()),data.groupby(\"carrier\").mean()[\"dep_delay\"])\n",
    "ax[1,0].set_title(\"average delay\")\n",
    "ax[2,0].bar(np.sort(data[\"carrier\"].unique()),data.groupby(\"carrier\").std()[\"dep_delay\"])\n",
    "ax[2,0].set_title(\"std of delay\")\n",
    "ax[0,1].bar(np.sort(data[\"carrier\"].unique()),delayed_data.groupby(\"carrier\").median()[\"dep_delay\"])\n",
    "ax[0,1].set_title(\"median positive delay\")\n",
    "ax[1,1].bar(np.sort(data[\"carrier\"].unique()),delayed_data.groupby(\"carrier\").mean()[\"dep_delay\"])\n",
    "ax[1,1].set_title(\"average positive delay\")\n",
    "ax[2,1].bar(np.sort(data[\"carrier\"].unique()),delayed_data.groupby(\"carrier\").std()[\"dep_delay\"])\n",
    "ax[2,1].set_title(\"std of positive delay\")\n",
    "plt.show()\n",
    "pd.concat([data[\"carrier\"].value_counts(),delayed_data[\"carrier\"].value_counts()],1,keys=[\"flights\",\"delayed flights\"]).sort_index().T"
   ]
  },
  {
   "cell_type": "markdown",
   "metadata": {},
   "source": [
    "HA and OO have some strange results, but that is almost certainly because they are the least flying ones. OO has only 29 flights with 9 delayed.\n",
    "FL and WN have more than half of their flights delayed and one of the biggest average delays. However half of their delayed flights depart in under ~15 minutes and their average positive delay is, well, average.\n",
    "F9, UA and VX have ~half of their flights delayed. UA, the biggest carrier, has the lowest average positive delay at ~30 minutes.\n",
    "US is the best carrier among the big ones with the lowest average delay and generally good numbers.\n",
    "AS and YV are the last two small carriers and AS is a way better one. On almost all graphs AS is among the best and YV is among the worst.\n",
    "9E and EV are the worst performers from big carriers with both delay and positive delay on the longer side.\n",
    "AA, B6, DL, MQ are pretty average."
   ]
  },
  {
   "cell_type": "markdown",
   "metadata": {},
   "source": [
    "5) How visibility affects delay?"
   ]
  },
  {
   "cell_type": "code",
   "execution_count": 15,
   "metadata": {},
   "outputs": [
    {
     "data": {
      "image/png": "[encoded data removed]",
      "text/plain": [
       "<Figure size 432x288 with 1 Axes>"
      ]
     },
     "metadata": {
      "needs_background": "light"
     },
     "output_type": "display_data"
    },
    {
     "data": {
      "text/html": [
       "<div>\n",
       "<style scoped>\n",
       "    .dataframe tbody tr th:only-of-type {\n",
       "        vertical-align: middle;\n",
       "    }\n",
       "\n",
       "    .dataframe tbody tr th {\n",
       "        vertical-align: top;\n",
       "    }\n",
       "\n",
       "    .dataframe thead th {\n",
       "        text-align: right;\n",
       "    }\n",
       "</style>\n",
       "<table border=\"1\" class=\"dataframe\">\n",
       "  <thead>\n",
       "    <tr style=\"text-align: right;\">\n",
       "      <th></th>\n",
       "      <th>0.12</th>\n",
       "      <th>0.25</th>\n",
       "      <th>0.50</th>\n",
       "      <th>0.75</th>\n",
       "      <th>1.00</th>\n",
       "      <th>1.25</th>\n",
       "      <th>1.50</th>\n",
       "      <th>1.75</th>\n",
       "      <th>2.00</th>\n",
       "      <th>2.50</th>\n",
       "      <th>3.00</th>\n",
       "      <th>4.00</th>\n",
       "      <th>5.00</th>\n",
       "      <th>6.00</th>\n",
       "      <th>7.00</th>\n",
       "      <th>8.00</th>\n",
       "      <th>9.00</th>\n",
       "      <th>10.00</th>\n",
       "    </tr>\n",
       "  </thead>\n",
       "  <tbody>\n",
       "    <tr>\n",
       "      <th>Number of flights</th>\n",
       "      <td>125</td>\n",
       "      <td>1473</td>\n",
       "      <td>1700</td>\n",
       "      <td>260</td>\n",
       "      <td>1127</td>\n",
       "      <td>51</td>\n",
       "      <td>1794</td>\n",
       "      <td>155</td>\n",
       "      <td>3874</td>\n",
       "      <td>2204</td>\n",
       "      <td>4259</td>\n",
       "      <td>3244</td>\n",
       "      <td>4653</td>\n",
       "      <td>6153</td>\n",
       "      <td>6279</td>\n",
       "      <td>6170</td>\n",
       "      <td>13132</td>\n",
       "      <td>270489</td>\n",
       "    </tr>\n",
       "  </tbody>\n",
       "</table>\n",
       "</div>"
      ],
      "text/plain": [
       "                   0.12   0.25   0.50   0.75   1.00   1.25   1.50   1.75   \\\n",
       "Number of flights    125   1473   1700    260   1127     51   1794    155   \n",
       "\n",
       "                   2.00   2.50   3.00   4.00   5.00   6.00   7.00   8.00   \\\n",
       "Number of flights   3874   2204   4259   3244   4653   6153   6279   6170   \n",
       "\n",
       "                   9.00    10.00  \n",
       "Number of flights  13132  270489  "
      ]
     },
     "execution_count": 15,
     "metadata": {},
     "output_type": "execute_result"
    }
   ],
   "source": [
    "plt.scatter(np.sort(data[\"visib\"].unique()),data.groupby(\"visib\").mean()[\"dep_delay\"])\n",
    "plt.xlabel('Visibility')\n",
    "plt.ylabel('Average delay')\n",
    "plt.show()\n",
    "data[\"visib\"].value_counts().sort_index().to_frame().T.rename(index= {\"visib\": 'Number of flights'})"
   ]
  },
  {
   "cell_type": "markdown",
   "metadata": {},
   "source": [
    "Lower values of visibility obviously lack enough data, but overall the trend is clear: the lower the visibility, the longer the delay."
   ]
  },
  {
   "cell_type": "markdown",
   "metadata": {},
   "source": [
    "6) How wind speed affects delay?"
   ]
  },
  {
   "cell_type": "code",
   "execution_count": 16,
   "metadata": {},
   "outputs": [],
   "source": [
    "normal_wind_data=data[data[\"wind_speed\"]!=1048.36058]\n",
    "normal_wind_delayed_data=normal_wind_data[normal_wind_data[\"dep_delay\"]>0]"
   ]
  },
  {
   "cell_type": "code",
   "execution_count": 17,
   "metadata": {},
   "outputs": [
    {
     "data": {
      "image/png": "[encoded data removed]",
      "text/plain": [
       "<Figure size 432x288 with 1 Axes>"
      ]
     },
     "metadata": {
      "needs_background": "light"
     },
     "output_type": "display_data"
    },
    {
     "data": {
      "text/html": [
       "<div>\n",
       "<style scoped>\n",
       "    .dataframe tbody tr th:only-of-type {\n",
       "        vertical-align: middle;\n",
       "    }\n",
       "\n",
       "    .dataframe tbody tr th {\n",
       "        vertical-align: top;\n",
       "    }\n",
       "\n",
       "    .dataframe thead th {\n",
       "        text-align: right;\n",
       "    }\n",
       "</style>\n",
       "<table border=\"1\" class=\"dataframe\">\n",
       "  <thead>\n",
       "    <tr style=\"text-align: right;\">\n",
       "      <th></th>\n",
       "      <th>0.00000</th>\n",
       "      <th>3.45234</th>\n",
       "      <th>4.60312</th>\n",
       "      <th>5.75390</th>\n",
       "      <th>6.90468</th>\n",
       "      <th>8.05546</th>\n",
       "      <th>9.20624</th>\n",
       "      <th>10.35702</th>\n",
       "      <th>11.50780</th>\n",
       "      <th>12.65858</th>\n",
       "      <th>...</th>\n",
       "      <th>26.46794</th>\n",
       "      <th>27.61872</th>\n",
       "      <th>28.76950</th>\n",
       "      <th>29.92028</th>\n",
       "      <th>31.07106</th>\n",
       "      <th>32.22184</th>\n",
       "      <th>33.37262</th>\n",
       "      <th>34.52340</th>\n",
       "      <th>39.12652</th>\n",
       "      <th>40.27730</th>\n",
       "    </tr>\n",
       "  </thead>\n",
       "  <tbody>\n",
       "    <tr>\n",
       "      <th>Number of flights</th>\n",
       "      <td>24681</td>\n",
       "      <td>21445</td>\n",
       "      <td>26767</td>\n",
       "      <td>30120</td>\n",
       "      <td>30114</td>\n",
       "      <td>28143</td>\n",
       "      <td>28807</td>\n",
       "      <td>24270</td>\n",
       "      <td>23272</td>\n",
       "      <td>20010</td>\n",
       "      <td>...</td>\n",
       "      <td>250</td>\n",
       "      <td>727</td>\n",
       "      <td>236</td>\n",
       "      <td>120</td>\n",
       "      <td>192</td>\n",
       "      <td>47</td>\n",
       "      <td>155</td>\n",
       "      <td>39</td>\n",
       "      <td>39</td>\n",
       "      <td>53</td>\n",
       "    </tr>\n",
       "  </tbody>\n",
       "</table>\n",
       "<p>1 rows × 31 columns</p>\n",
       "</div>"
      ],
      "text/plain": [
       "                   0.00000   3.45234   4.60312   5.75390   6.90468   8.05546   \\\n",
       "Number of flights     24681     21445     26767     30120     30114     28143   \n",
       "\n",
       "                   9.20624   10.35702  11.50780  12.65858  ...  26.46794  \\\n",
       "Number of flights     28807     24270     23272     20010  ...       250   \n",
       "\n",
       "                   27.61872  28.76950  29.92028  31.07106  32.22184  33.37262  \\\n",
       "Number of flights       727       236       120       192        47       155   \n",
       "\n",
       "                   34.52340  39.12652  40.27730  \n",
       "Number of flights        39        39        53  \n",
       "\n",
       "[1 rows x 31 columns]"
      ]
     },
     "execution_count": 17,
     "metadata": {},
     "output_type": "execute_result"
    }
   ],
   "source": [
    "plt.scatter(np.sort(normal_wind_data[\"wind_speed\"].unique()),normal_wind_data.groupby(\"wind_speed\").mean()[\"dep_delay\"])\n",
    "plt.xlabel('Wind speed')\n",
    "plt.ylabel('Average delay')\n",
    "plt.show()\n",
    "normal_wind_data[\"wind_speed\"].value_counts().sort_index().to_frame().T.rename(index= {\"wind_speed\": 'Number of flights'})"
   ]
  },
  {
   "cell_type": "markdown",
   "metadata": {},
   "source": [
    "Situation with wind speed is pretty similar with that of visibility. Little data but visible trend. It's quite possible these are somehow correlated."
   ]
  },
  {
   "cell_type": "markdown",
   "metadata": {},
   "source": [
    "7) Let's look at airports"
   ]
  },
  {
   "cell_type": "code",
   "execution_count": 18,
   "metadata": {},
   "outputs": [
    {
     "data": {
      "image/png": "[encoded data removed]",
      "text/plain": [
       "<Figure size 720x288 with 2 Axes>"
      ]
     },
     "metadata": {
      "needs_background": "light"
     },
     "output_type": "display_data"
    },
    {
     "data": {
      "text/html": [
       "<div>\n",
       "<style scoped>\n",
       "    .dataframe tbody tr th:only-of-type {\n",
       "        vertical-align: middle;\n",
       "    }\n",
       "\n",
       "    .dataframe tbody tr th {\n",
       "        vertical-align: top;\n",
       "    }\n",
       "\n",
       "    .dataframe thead th {\n",
       "        text-align: right;\n",
       "    }\n",
       "</style>\n",
       "<table border=\"1\" class=\"dataframe\">\n",
       "  <thead>\n",
       "    <tr style=\"text-align: right;\">\n",
       "      <th></th>\n",
       "      <th>EWR</th>\n",
       "      <th>JFK</th>\n",
       "      <th>LGA</th>\n",
       "    </tr>\n",
       "  </thead>\n",
       "  <tbody>\n",
       "    <tr>\n",
       "      <th>flights</th>\n",
       "      <td>117126</td>\n",
       "      <td>108930</td>\n",
       "      <td>101086</td>\n",
       "    </tr>\n",
       "    <tr>\n",
       "      <th>delayed flights</th>\n",
       "      <td>52512</td>\n",
       "      <td>41833</td>\n",
       "      <td>33550</td>\n",
       "    </tr>\n",
       "  </tbody>\n",
       "</table>\n",
       "</div>"
      ],
      "text/plain": [
       "                    EWR     JFK     LGA\n",
       "flights          117126  108930  101086\n",
       "delayed flights   52512   41833   33550"
      ]
     },
     "execution_count": 18,
     "metadata": {},
     "output_type": "execute_result"
    }
   ],
   "source": [
    "f,ax=plt.subplots(1,2,figsize=(10,4))\n",
    "ax[0].bar(np.sort(data[\"origin\"].unique()),data.groupby(\"origin\").mean()[\"dep_delay\"])\n",
    "ax[0].set_title(\"average delay\")\n",
    "ax[1].bar(np.sort(data[\"origin\"].unique()),delayed_data.groupby(\"origin\").mean()[\"dep_delay\"])\n",
    "ax[1].set_title(\"average positive delay\")\n",
    "plt.show()\n",
    "pd.concat([data[\"origin\"].value_counts(),delayed_data[\"origin\"].value_counts()],1,keys=[\"flights\",\"delayed flights\"]).sort_index().T"
   ]
  },
  {
   "cell_type": "markdown",
   "metadata": {},
   "source": [
    "In average delay and percentage of delays airports go in size order. But LGA has the highest average positive delay with ~10% longer delays than JFK."
   ]
  }
 ],
 "metadata": {
  "kernelspec": {
   "display_name": "Python 3",
   "language": "python",
   "name": "python3"
  },
  "language_info": {
   "codemirror_mode": {
    "name": "ipython",
    "version": 3
   },
   "file_extension": ".py",
   "mimetype": "text/x-python",
   "name": "python",
   "nbconvert_exporter": "python",
   "pygments_lexer": "ipython3",
   "version": "3.8.5"
  }
 },
 "nbformat": 4,
 "nbformat_minor": 4
}
