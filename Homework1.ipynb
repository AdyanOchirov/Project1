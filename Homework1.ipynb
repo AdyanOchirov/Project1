{
 "cells": [
  {
   "cell_type": "code",
   "execution_count": 1,
   "metadata": {},
   "outputs": [],
   "source": [
    "class Test:\n",
    "    @staticmethod\n",
    "    def assert_equals(a, b, *args, **kwargs):\n",
    "        assert a == b\n",
    "        print('Passed')"
   ]
  },
  {
   "cell_type": "markdown",
   "metadata": {},
   "source": [
    "Problem https://edabit.com/challenge/2zKetgAJp4WRFXiDT (2 point)"
   ]
  },
  {
   "cell_type": "code",
   "execution_count": 2,
   "metadata": {},
   "outputs": [],
   "source": [
    "def number_length(num):\n",
    "    length = 1\n",
    "    while num > 9:\n",
    "        length += 1\n",
    "        num = num // 10\n",
    "    return length"
   ]
  },
  {
   "cell_type": "code",
   "execution_count": 3,
   "metadata": {},
   "outputs": [
    {
     "name": "stdout",
     "output_type": "stream",
     "text": [
      "Passed\n",
      "Passed\n",
      "Passed\n",
      "Passed\n",
      "Passed\n",
      "Passed\n",
      "Passed\n"
     ]
    }
   ],
   "source": [
    "Test.assert_equals(number_length(10), 2)\n",
    "Test.assert_equals(number_length(5000), 4)\n",
    "Test.assert_equals(number_length(0), 1)\n",
    "Test.assert_equals(number_length(4039182), 7)\n",
    "Test.assert_equals(number_length(9999999999999999), 16)\n",
    "Test.assert_equals(number_length(1), 1)\n",
    "Test.assert_equals(number_length(777777777777777777777777777777), 30)"
   ]
  },
  {
   "cell_type": "markdown",
   "metadata": {},
   "source": [
    "Problem https://edabit.com/challenge/qrSc3vKCqyFcz9ptr (3 points)"
   ]
  },
  {
   "cell_type": "code",
   "execution_count": 4,
   "metadata": {},
   "outputs": [],
   "source": [
    "def sum_round(num):\n",
    "    ans = \"\"\n",
    "    exp = 1\n",
    "    while num > 9:\n",
    "        digit = num % 10\n",
    "        if digit != 0:\n",
    "            ans += str(digit * exp)\n",
    "            ans += \" \"\n",
    "        exp *= 10\n",
    "        num = num // 10\n",
    "    ans += str(num * exp)\n",
    "    return ans"
   ]
  },
  {
   "cell_type": "code",
   "execution_count": 5,
   "metadata": {},
   "outputs": [
    {
     "name": "stdout",
     "output_type": "stream",
     "text": [
      "Passed\n",
      "Passed\n",
      "Passed\n",
      "Passed\n",
      "Passed\n",
      "Passed\n"
     ]
    }
   ],
   "source": [
    "Test.assert_equals(sum_round(101), \"1 100\")\n",
    "Test.assert_equals(sum_round(1010), \"10 1000\")\n",
    "Test.assert_equals(sum_round(1234), \"4 30 200 1000\")\n",
    "Test.assert_equals(sum_round(54213), \"3 10 200 4000 50000\")\n",
    "Test.assert_equals(sum_round(548741), \"1 40 700 8000 40000 500000\")\n",
    "Test.assert_equals(sum_round(1234567), \"7 60 500 4000 30000 200000 1000000\")"
   ]
  },
  {
   "cell_type": "markdown",
   "metadata": {},
   "source": [
    "Problem https://edabit.com/challenge/Wd9cCvFKC3fHzgqSx (4 points)"
   ]
  },
  {
   "cell_type": "code",
   "execution_count": 6,
   "metadata": {},
   "outputs": [],
   "source": [
    "def num_split(num):\n",
    "    ans = []\n",
    "    sign = 1\n",
    "    if num < 0:\n",
    "        sign = -1\n",
    "    exp = 1\n",
    "    num *= sign\n",
    "    while exp <= num:\n",
    "        exp *= 10\n",
    "    exp /= 10\n",
    "    while exp >= 1:\n",
    "        ans.append(num//exp*exp*sign)\n",
    "        num = num % exp\n",
    "        exp /= 10\n",
    "    ans = list(map(int, ans))\n",
    "    return ans"
   ]
  },
  {
   "cell_type": "code",
   "execution_count": 7,
   "metadata": {},
   "outputs": [
    {
     "name": "stdout",
     "output_type": "stream",
     "text": [
      "Passed\n",
      "Passed\n",
      "Passed\n",
      "Passed\n",
      "Passed\n",
      "Passed\n",
      "Passed\n"
     ]
    }
   ],
   "source": [
    "Test.assert_equals(num_split(39), [30, 9])\n",
    "Test.assert_equals(num_split(-434), [-400, -30, -4])\n",
    "Test.assert_equals(num_split(100), [100, 0, 0])\n",
    "Test.assert_equals(num_split(3929), [3000, 900, 20, 9])\n",
    "Test.assert_equals(num_split(10293), [10000, 0, 200, 90, 3])\n",
    "Test.assert_equals(num_split(900), [900, 0, 0])\n",
    "Test.assert_equals(num_split(-100), [-100, 0, 0])"
   ]
  },
  {
   "cell_type": "markdown",
   "metadata": {},
   "source": [
    "Problem https://edabit.com/challenge/5bYXQfpyoithnQisa (3 points)"
   ]
  },
  {
   "cell_type": "code",
   "execution_count": 8,
   "metadata": {},
   "outputs": [],
   "source": [
    "char_to_dots = {\n",
    "  'A': '.-', 'B': '-...', 'C': '-.-.', 'D': '-..', 'E': '.', 'F': '..-.',\n",
    "  'G': '--.', 'H': '....', 'I': '..', 'J': '.---', 'K': '-.-', 'L': '.-..',\n",
    "  'M': '--', 'N': '-.', 'O': '---', 'P': '.--.', 'Q': '--.-', 'R': '.-.',\n",
    "  'S': '...', 'T': '-', 'U': '..-', 'V': '...-', 'W': '.--', 'X': '-..-',\n",
    "  'Y': '-.--', 'Z': '--..', ' ': ' ', '0': '-----',\n",
    "  '1': '.----', '2': '..---', '3': '...--', '4': '....-', '5': '.....',\n",
    "  '6': '-....', '7': '--...', '8': '---..', '9': '----.',\n",
    "  '&': '.-...', \"'\": '.----.', '@': '.--.-.', ')': '-.--.-', '(': '-.--.',\n",
    "  ':': '---...', ',': '--..--', '=': '-...-', '!': '-.-.--', '.': '.-.-.-',\n",
    "  '-': '-....-', '+': '.-.-.', '\"': '.-..-.', '?': '..--..', '/': '-..-.'\n",
    "}"
   ]
  },
  {
   "cell_type": "code",
   "execution_count": 9,
   "metadata": {},
   "outputs": [],
   "source": [
    "def encode_morse(message):\n",
    "    message = message.upper()\n",
    "    ans = \"\"\n",
    "    for i in range(len(message)-1):\n",
    "        ans += char_to_dots[message[i]]\n",
    "        ans += \" \"\n",
    "    ans += char_to_dots[message[len(message)-1]]\n",
    "    return ans"
   ]
  },
  {
   "cell_type": "code",
   "execution_count": 10,
   "metadata": {},
   "outputs": [
    {
     "name": "stdout",
     "output_type": "stream",
     "text": [
      "Passed\n",
      "Passed\n",
      "Passed\n",
      "Passed\n",
      "Passed\n",
      "Passed\n"
     ]
    }
   ],
   "source": [
    "Test.assert_equals(encode_morse(\"EDABBIT CHALLENGE\"), \". -.. .- -... -... .. -   -.-. .... .- .-.. .-.. . -. --. .\", \"Test 1\")\n",
    "Test.assert_equals(encode_morse(\"HELP ME !\"), \".... . .-.. .--.   -- .   -.-.--\", \"Test 2\")\n",
    "Test.assert_equals(encode_morse(\"CHALLENGE\"), \"-.-. .... .- .-.. .-.. . -. --. .\", \"Test 3\")\n",
    "Test.assert_equals(encode_morse(\"1 APPLE AND 5 CHERRY, 7 SANDWICHES, 2 TABLES, 9 INVITED GUYS ! THAT'S SO COOL...\"), \".----   .- .--. .--. .-.. .   .- -. -..   .....   -.-. .... . .-. .-. -.-- --..--   --...   ... .- -. -.. .-- .. -.-. .... . ... --..--   ..---   - .- -... .-.. . ... --..--   ----.   .. -. ...- .. - . -..   --. ..- -.-- ...   -.-.--   - .... .- - .----. ...   ... ---   -.-. --- --- .-.. .-.-.- .-.-.- .-.-.-\", \"Test 4\")\n",
    "Test.assert_equals(encode_morse(\"did you got my mail ?\"), \"-.. .. -..   -.-- --- ..-   --. --- -   -- -.--   -- .- .. .-..   ..--..\", \"Test 5\")\n",
    "Test.assert_equals(encode_morse(\"TWO THInGS TO KNOW : i FORGeT THeM :C\"), \"- .-- ---   - .... .. -. --. ...   - ---   -.- -. --- .--   ---...   ..   ..-. --- .-. --. . -   - .... . --   ---... -.-.\", \"Test 6\")"
   ]
  },
  {
   "cell_type": "markdown",
   "metadata": {},
   "source": [
    "Problem https://edabit.com/challenge/f3jX2BwzAuR8DXsy4 (3 points)"
   ]
  },
  {
   "cell_type": "code",
   "execution_count": 11,
   "metadata": {},
   "outputs": [],
   "source": [
    "def fact(num):\n",
    "    ans = 1\n",
    "    for i in range(num):\n",
    "        ans *= i + 1\n",
    "    return ans\n",
    "def fact_of_fact(num):\n",
    "    ans = 1\n",
    "    for i in range(num):\n",
    "        ans *= fact(i + 1)\n",
    "    return ans"
   ]
  },
  {
   "cell_type": "code",
   "execution_count": 12,
   "metadata": {},
   "outputs": [
    {
     "data": {
      "text/plain": [
       "34560"
      ]
     },
     "execution_count": 12,
     "metadata": {},
     "output_type": "execute_result"
    }
   ],
   "source": [
    "fact_of_fact(5)"
   ]
  },
  {
   "cell_type": "code",
   "execution_count": 13,
   "metadata": {},
   "outputs": [
    {
     "name": "stdout",
     "output_type": "stream",
     "text": [
      "Passed\n",
      "Passed\n",
      "Passed\n",
      "Passed\n",
      "Passed\n",
      "Passed\n",
      "Passed\n",
      "Passed\n",
      "Passed\n",
      "Passed\n",
      "Passed\n",
      "Passed\n",
      "Passed\n",
      "Passed\n",
      "Passed\n",
      "Passed\n",
      "Passed\n",
      "Passed\n",
      "Passed\n",
      "Passed\n",
      "Passed\n",
      "Passed\n"
     ]
    }
   ],
   "source": [
    "Test.assert_equals(fact_of_fact(4), 288),\n",
    "Test.assert_equals(fact_of_fact(1), 1),\n",
    "Test.assert_equals(fact_of_fact(5), 34560),\n",
    "Test.assert_equals(fact_of_fact(2), 2),\n",
    "Test.assert_equals(fact_of_fact(6), 24883200),\n",
    "Test.assert_equals(fact_of_fact(3), 12),\n",
    "Test.assert_equals(fact_of_fact(14), 69113789582492712943486800506462734562847413501952000000000000000),\n",
    "Test.assert_equals(fact_of_fact(11), 265790267296391946810949632000000000),\n",
    "Test.assert_equals(fact_of_fact(7), 125411328000),\n",
    "Test.assert_equals(fact_of_fact(22), 73185187344722251685917129061596359994436879170423331597220791224873045503248922811481956548134913475324429128068839519292427638045690327208977109451014144000000000000000000000000000000000000000000),\n",
    "Test.assert_equals(fact_of_fact(13), 792786697595796795607377086400871488552960000000000000),\n",
    "Test.assert_equals(fact_of_fact(8), 5056584744960000),\n",
    "Test.assert_equals(fact_of_fact(10), 6658606584104736522240000000),\n",
    "Test.assert_equals(fact_of_fact(9), 1834933472251084800000 ),\n",
    "Test.assert_equals(fact_of_fact(12), 127313963299399416749559771247411200000000000 ),\n",
    "Test.assert_equals(fact_of_fact(15), 90378331112371142262979521568630736335023247731599748366336000000000000000000 ),\n",
    "Test.assert_equals(fact_of_fact(16), 1890966832292234727042877370627225068196418587883634153182519380410368000000000000000000000 ),\n",
    "Test.assert_equals(fact_of_fact(17), 672593129192865130334217631473916658864122332882577979675277211683839238972899328000000000000000000000000 ),\n",
    "Test.assert_equals(fact_of_fact(18), 4306192564997715382115598640379294845786123319603755168023536027873932927153136831171640950784000000000000000000000000000 ),\n",
    "Test.assert_equals(fact_of_fact(19), 523827226948912906162136183269887782788685420217963126789982275317725639664591791615428617583779071590924288000000000000000000000000000000 ),\n",
    "Test.assert_equals(fact_of_fact(20), 1274420312381610764187232669591245728094053576480399681464607478621086015845192873311847341571189522511934190056991170232320000000000000000000000000000000000 ),\n",
    "Test.assert_equals(fact_of_fact(21), 65111334482340755583337032079153276047018894694274871209973336023462275586396482041798135409436085152342597056410325664391109570976337100800000000000000000000000000000000000000 )"
   ]
  },
  {
   "cell_type": "code",
   "execution_count": null,
   "metadata": {},
   "outputs": [],
   "source": []
  }
 ],
 "metadata": {
  "kernelspec": {
   "display_name": "Python 3",
   "language": "python",
   "name": "python3"
  },
  "language_info": {
   "codemirror_mode": {
    "name": "ipython",
    "version": 3
   },
   "file_extension": ".py",
   "mimetype": "text/x-python",
   "name": "python",
   "nbconvert_exporter": "python",
   "pygments_lexer": "ipython3",
   "version": "3.8.5"
  }
 },
 "nbformat": 4,
 "nbformat_minor": 4
}
